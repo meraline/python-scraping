{
 "cells": [
  {
   "cell_type": "code",
   "execution_count": 1,
   "id": "8090be7c-a59c-49d3-a5d5-277d067619a2",
   "metadata": {},
   "outputs": [],
   "source": [
    "import scrapy"
   ]
  },
  {
   "cell_type": "code",
   "execution_count": 4,
   "id": "c62be37c-d2a3-4293-a2bf-ffcffc871fca",
   "metadata": {},
   "outputs": [
    {
     "name": "stdout",
     "output_type": "stream",
     "text": [
      "New Scrapy project 'wikiSpider2', using template directory 'C:\\Users\\artio\\anaconda3\\lib\\site-packages\\scrapy\\templates\\project', created in:\n",
      "    C:\\Users\\artio\\Documents\\GitHub\\python-scraping\\wikiSpider2\n",
      "\n",
      "You can start your first spider with:\n",
      "    cd wikiSpider2\n",
      "    scrapy genspider example example.com\n"
     ]
    }
   ],
   "source": [
    "! scrapy startproject wikiSpider2"
   ]
  },
  {
   "cell_type": "code",
   "execution_count": null,
   "id": "348f0506-503e-4148-bd10-9c6c1b59170e",
   "metadata": {},
   "outputs": [],
   "source": []
  }
 ],
 "metadata": {
  "kernelspec": {
   "display_name": "Python 3 (ipykernel)",
   "language": "python",
   "name": "python3"
  },
  "language_info": {
   "codemirror_mode": {
    "name": "ipython",
    "version": 3
   },
   "file_extension": ".py",
   "mimetype": "text/x-python",
   "name": "python",
   "nbconvert_exporter": "python",
   "pygments_lexer": "ipython3",
   "version": "3.9.7"
  },
  "widgets": {
   "application/vnd.jupyter.widget-state+json": {
    "state": {},
    "version_major": 2,
    "version_minor": 0
   }
  }
 },
 "nbformat": 4,
 "nbformat_minor": 5
}
