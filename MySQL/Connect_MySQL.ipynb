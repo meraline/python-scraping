{
 "cells": [
  {
   "cell_type": "code",
   "execution_count": 2,
   "id": "5e8ba027-cc17-4d4f-b21e-2a2ea9f10ec3",
   "metadata": {
    "tags": []
   },
   "outputs": [
    {
     "name": "stdout",
     "output_type": "stream",
     "text": [
      "Collecting mysql-connector-python\n",
      "  Downloading mysql_connector_python-8.0.31-cp39-cp39-win_amd64.whl (7.9 MB)\n",
      "     ---------------------------------------- 7.9/7.9 MB 6.8 MB/s eta 0:00:00\n",
      "Requirement already satisfied: protobuf<=3.20.1,>=3.11.0 in c:\\users\\artio\\anaconda3\\lib\\site-packages (from mysql-connector-python) (3.19.6)\n",
      "Installing collected packages: mysql-connector-python\n",
      "Successfully installed mysql-connector-python-8.0.31\n"
     ]
    }
   ],
   "source": [
    "!pip install mysql-connector-python"
   ]
  },
  {
   "cell_type": "code",
   "execution_count": 10,
   "id": "cc375cdc-3151-4809-b494-1cc38c898f00",
   "metadata": {},
   "outputs": [
    {
     "name": "stdout",
     "output_type": "stream",
     "text": [
      "Collecting mysql\n",
      "  Downloading mysql-0.0.3-py3-none-any.whl (1.2 kB)\n",
      "Collecting mysqlclient\n",
      "  Downloading mysqlclient-2.1.1-cp39-cp39-win_amd64.whl (178 kB)\n",
      "     ------------------------------------ 178.5/178.5 kB 895.1 kB/s eta 0:00:00\n",
      "Installing collected packages: mysqlclient, mysql\n",
      "Successfully installed mysql-0.0.3 mysqlclient-2.1.1\n"
     ]
    }
   ],
   "source": [
    "! pip install mysql"
   ]
  },
  {
   "cell_type": "code",
   "execution_count": 1,
   "id": "cf4d543b-cdcb-4f7d-b0ae-7962d40458a2",
   "metadata": {},
   "outputs": [],
   "source": [
    "import mysql\n",
    "import mysql.connector\n",
    "from mysql.connector import Error\n",
    "\n",
    "\n",
    "try:\n",
    "    conn = mysql.connector.connect(host='localhost',\n",
    "                                    database='scraping',\n",
    "                                    user='root',\n",
    "                                    passwd='1234'\n",
    "                                  )\n",
    "    if conn.is_connected():\n",
    "        print('Connected to MySQL database')\n",
    "\n",
    "except Error as e:\n",
    "    print(e)"
   ]
  },
  {
   "cell_type": "code",
   "execution_count": 2,
   "id": "76b82470-89b7-4623-926a-153a026a2558",
   "metadata": {},
   "outputs": [],
   "source": [
    "conn.close()"
   ]
  },
  {
   "cell_type": "code",
   "execution_count": 1,
   "id": "ef2be74f-39f8-439a-a7cf-2763826f156b",
   "metadata": {},
   "outputs": [
    {
     "data": {
      "text/plain": [
       "2"
      ]
     },
     "execution_count": 1,
     "metadata": {},
     "output_type": "execute_result"
    }
   ],
   "source": [
    "import pymysql\n",
    "import pymysql.cursors\n",
    "\n",
    "# Connect to the database\n",
    "conn = pymysql.connect(host='localhost',\n",
    "                             user='root',\n",
    "                             password='1234',\n",
    "                             database='scraping',\n",
    "                             cursorclass=pymysql.cursors.DictCursor)\n",
    "cur = conn.cursor()\n",
    "cur.execute('USE scraping')\n",
    "cur.execute('SELECT * FROM pages')"
   ]
  },
  {
   "cell_type": "code",
   "execution_count": 2,
   "id": "8dbea636-05c3-4dfa-b1f4-60be7da7e747",
   "metadata": {},
   "outputs": [],
   "source": [
    "conn.close()\n",
    "cur.close()"
   ]
  },
  {
   "cell_type": "code",
   "execution_count": null,
   "id": "6acc3369-e007-4c06-96bb-c3ef4e7fb9c5",
   "metadata": {},
   "outputs": [],
   "source": []
  }
 ],
 "metadata": {
  "kernelspec": {
   "display_name": "Python 3 (ipykernel)",
   "language": "python",
   "name": "python3"
  },
  "language_info": {
   "codemirror_mode": {
    "name": "ipython",
    "version": 3
   },
   "file_extension": ".py",
   "mimetype": "text/x-python",
   "name": "python",
   "nbconvert_exporter": "python",
   "pygments_lexer": "ipython3",
   "version": "3.9.7"
  },
  "widgets": {
   "application/vnd.jupyter.widget-state+json": {
    "state": {},
    "version_major": 2,
    "version_minor": 0
   }
  }
 },
 "nbformat": 4,
 "nbformat_minor": 5
}
